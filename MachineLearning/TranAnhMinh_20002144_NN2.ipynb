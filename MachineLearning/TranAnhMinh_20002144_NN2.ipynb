{
  "nbformat": 4,
  "nbformat_minor": 0,
  "metadata": {
    "colab": {
      "provenance": []
    },
    "kernelspec": {
      "name": "python3",
      "display_name": "Python 3"
    },
    "language_info": {
      "name": "python"
    }
  },
  "cells": [
    {
      "cell_type": "code",
      "execution_count": 431,
      "metadata": {
        "id": "nrJEmg7oY-HG"
      },
      "outputs": [],
      "source": [
        "import numpy as np\n",
        "import pandas as pd\n",
        "from matplotlib import pyplot as plt"
      ]
    },
    {
      "cell_type": "code",
      "source": [
        "data = pd.read_csv('Social_Network_Ads.csv')\n",
        "df = pd.DataFrame(data)\n",
        "df"
      ],
      "metadata": {
        "colab": {
          "base_uri": "https://localhost:8080/",
          "height": 423
        },
        "id": "H-9xLAwAaIb6",
        "outputId": "0b7a3599-f975-49b0-a1d2-d214c47e3c4f"
      },
      "execution_count": 432,
      "outputs": [
        {
          "output_type": "execute_result",
          "data": {
            "text/plain": [
              "      User ID  Gender  Age  EstimatedSalary  Purchased\n",
              "0    15624510    Male   19            19000          0\n",
              "1    15810944    Male   35            20000          0\n",
              "2    15668575  Female   26            43000          0\n",
              "3    15603246  Female   27            57000          0\n",
              "4    15804002    Male   19            76000          0\n",
              "..        ...     ...  ...              ...        ...\n",
              "395  15691863  Female   46            41000          1\n",
              "396  15706071    Male   51            23000          1\n",
              "397  15654296  Female   50            20000          1\n",
              "398  15755018    Male   36            33000          0\n",
              "399  15594041  Female   49            36000          1\n",
              "\n",
              "[400 rows x 5 columns]"
            ],
            "text/html": [
              "\n",
              "  <div id=\"df-d3b8a38b-a5a4-4145-9a51-5a2f7eabe5af\">\n",
              "    <div class=\"colab-df-container\">\n",
              "      <div>\n",
              "<style scoped>\n",
              "    .dataframe tbody tr th:only-of-type {\n",
              "        vertical-align: middle;\n",
              "    }\n",
              "\n",
              "    .dataframe tbody tr th {\n",
              "        vertical-align: top;\n",
              "    }\n",
              "\n",
              "    .dataframe thead th {\n",
              "        text-align: right;\n",
              "    }\n",
              "</style>\n",
              "<table border=\"1\" class=\"dataframe\">\n",
              "  <thead>\n",
              "    <tr style=\"text-align: right;\">\n",
              "      <th></th>\n",
              "      <th>User ID</th>\n",
              "      <th>Gender</th>\n",
              "      <th>Age</th>\n",
              "      <th>EstimatedSalary</th>\n",
              "      <th>Purchased</th>\n",
              "    </tr>\n",
              "  </thead>\n",
              "  <tbody>\n",
              "    <tr>\n",
              "      <th>0</th>\n",
              "      <td>15624510</td>\n",
              "      <td>Male</td>\n",
              "      <td>19</td>\n",
              "      <td>19000</td>\n",
              "      <td>0</td>\n",
              "    </tr>\n",
              "    <tr>\n",
              "      <th>1</th>\n",
              "      <td>15810944</td>\n",
              "      <td>Male</td>\n",
              "      <td>35</td>\n",
              "      <td>20000</td>\n",
              "      <td>0</td>\n",
              "    </tr>\n",
              "    <tr>\n",
              "      <th>2</th>\n",
              "      <td>15668575</td>\n",
              "      <td>Female</td>\n",
              "      <td>26</td>\n",
              "      <td>43000</td>\n",
              "      <td>0</td>\n",
              "    </tr>\n",
              "    <tr>\n",
              "      <th>3</th>\n",
              "      <td>15603246</td>\n",
              "      <td>Female</td>\n",
              "      <td>27</td>\n",
              "      <td>57000</td>\n",
              "      <td>0</td>\n",
              "    </tr>\n",
              "    <tr>\n",
              "      <th>4</th>\n",
              "      <td>15804002</td>\n",
              "      <td>Male</td>\n",
              "      <td>19</td>\n",
              "      <td>76000</td>\n",
              "      <td>0</td>\n",
              "    </tr>\n",
              "    <tr>\n",
              "      <th>...</th>\n",
              "      <td>...</td>\n",
              "      <td>...</td>\n",
              "      <td>...</td>\n",
              "      <td>...</td>\n",
              "      <td>...</td>\n",
              "    </tr>\n",
              "    <tr>\n",
              "      <th>395</th>\n",
              "      <td>15691863</td>\n",
              "      <td>Female</td>\n",
              "      <td>46</td>\n",
              "      <td>41000</td>\n",
              "      <td>1</td>\n",
              "    </tr>\n",
              "    <tr>\n",
              "      <th>396</th>\n",
              "      <td>15706071</td>\n",
              "      <td>Male</td>\n",
              "      <td>51</td>\n",
              "      <td>23000</td>\n",
              "      <td>1</td>\n",
              "    </tr>\n",
              "    <tr>\n",
              "      <th>397</th>\n",
              "      <td>15654296</td>\n",
              "      <td>Female</td>\n",
              "      <td>50</td>\n",
              "      <td>20000</td>\n",
              "      <td>1</td>\n",
              "    </tr>\n",
              "    <tr>\n",
              "      <th>398</th>\n",
              "      <td>15755018</td>\n",
              "      <td>Male</td>\n",
              "      <td>36</td>\n",
              "      <td>33000</td>\n",
              "      <td>0</td>\n",
              "    </tr>\n",
              "    <tr>\n",
              "      <th>399</th>\n",
              "      <td>15594041</td>\n",
              "      <td>Female</td>\n",
              "      <td>49</td>\n",
              "      <td>36000</td>\n",
              "      <td>1</td>\n",
              "    </tr>\n",
              "  </tbody>\n",
              "</table>\n",
              "<p>400 rows × 5 columns</p>\n",
              "</div>\n",
              "      <button class=\"colab-df-convert\" onclick=\"convertToInteractive('df-d3b8a38b-a5a4-4145-9a51-5a2f7eabe5af')\"\n",
              "              title=\"Convert this dataframe to an interactive table.\"\n",
              "              style=\"display:none;\">\n",
              "        \n",
              "  <svg xmlns=\"http://www.w3.org/2000/svg\" height=\"24px\"viewBox=\"0 0 24 24\"\n",
              "       width=\"24px\">\n",
              "    <path d=\"M0 0h24v24H0V0z\" fill=\"none\"/>\n",
              "    <path d=\"M18.56 5.44l.94 2.06.94-2.06 2.06-.94-2.06-.94-.94-2.06-.94 2.06-2.06.94zm-11 1L8.5 8.5l.94-2.06 2.06-.94-2.06-.94L8.5 2.5l-.94 2.06-2.06.94zm10 10l.94 2.06.94-2.06 2.06-.94-2.06-.94-.94-2.06-.94 2.06-2.06.94z\"/><path d=\"M17.41 7.96l-1.37-1.37c-.4-.4-.92-.59-1.43-.59-.52 0-1.04.2-1.43.59L10.3 9.45l-7.72 7.72c-.78.78-.78 2.05 0 2.83L4 21.41c.39.39.9.59 1.41.59.51 0 1.02-.2 1.41-.59l7.78-7.78 2.81-2.81c.8-.78.8-2.07 0-2.86zM5.41 20L4 18.59l7.72-7.72 1.47 1.35L5.41 20z\"/>\n",
              "  </svg>\n",
              "      </button>\n",
              "      \n",
              "  <style>\n",
              "    .colab-df-container {\n",
              "      display:flex;\n",
              "      flex-wrap:wrap;\n",
              "      gap: 12px;\n",
              "    }\n",
              "\n",
              "    .colab-df-convert {\n",
              "      background-color: #E8F0FE;\n",
              "      border: none;\n",
              "      border-radius: 50%;\n",
              "      cursor: pointer;\n",
              "      display: none;\n",
              "      fill: #1967D2;\n",
              "      height: 32px;\n",
              "      padding: 0 0 0 0;\n",
              "      width: 32px;\n",
              "    }\n",
              "\n",
              "    .colab-df-convert:hover {\n",
              "      background-color: #E2EBFA;\n",
              "      box-shadow: 0px 1px 2px rgba(60, 64, 67, 0.3), 0px 1px 3px 1px rgba(60, 64, 67, 0.15);\n",
              "      fill: #174EA6;\n",
              "    }\n",
              "\n",
              "    [theme=dark] .colab-df-convert {\n",
              "      background-color: #3B4455;\n",
              "      fill: #D2E3FC;\n",
              "    }\n",
              "\n",
              "    [theme=dark] .colab-df-convert:hover {\n",
              "      background-color: #434B5C;\n",
              "      box-shadow: 0px 1px 3px 1px rgba(0, 0, 0, 0.15);\n",
              "      filter: drop-shadow(0px 1px 2px rgba(0, 0, 0, 0.3));\n",
              "      fill: #FFFFFF;\n",
              "    }\n",
              "  </style>\n",
              "\n",
              "      <script>\n",
              "        const buttonEl =\n",
              "          document.querySelector('#df-d3b8a38b-a5a4-4145-9a51-5a2f7eabe5af button.colab-df-convert');\n",
              "        buttonEl.style.display =\n",
              "          google.colab.kernel.accessAllowed ? 'block' : 'none';\n",
              "\n",
              "        async function convertToInteractive(key) {\n",
              "          const element = document.querySelector('#df-d3b8a38b-a5a4-4145-9a51-5a2f7eabe5af');\n",
              "          const dataTable =\n",
              "            await google.colab.kernel.invokeFunction('convertToInteractive',\n",
              "                                                     [key], {});\n",
              "          if (!dataTable) return;\n",
              "\n",
              "          const docLinkHtml = 'Like what you see? Visit the ' +\n",
              "            '<a target=\"_blank\" href=https://colab.research.google.com/notebooks/data_table.ipynb>data table notebook</a>'\n",
              "            + ' to learn more about interactive tables.';\n",
              "          element.innerHTML = '';\n",
              "          dataTable['output_type'] = 'display_data';\n",
              "          await google.colab.output.renderOutput(dataTable, element);\n",
              "          const docLink = document.createElement('div');\n",
              "          docLink.innerHTML = docLinkHtml;\n",
              "          element.appendChild(docLink);\n",
              "        }\n",
              "      </script>\n",
              "    </div>\n",
              "  </div>\n",
              "  "
            ]
          },
          "metadata": {},
          "execution_count": 432
        }
      ]
    },
    {
      "cell_type": "code",
      "source": [
        "X = data.iloc[:,[2,3]].values\n",
        "y = data.iloc[:,[-1]].values\n",
        "print(X.shape)"
      ],
      "metadata": {
        "colab": {
          "base_uri": "https://localhost:8080/"
        },
        "id": "C-LFqS5aaM5R",
        "outputId": "c95bc9ec-1788-4d4a-bd61-bac3bc5f5e7f"
      },
      "execution_count": 433,
      "outputs": [
        {
          "output_type": "stream",
          "name": "stdout",
          "text": [
            "(400, 2)\n"
          ]
        }
      ]
    },
    {
      "cell_type": "code",
      "source": [
        "from sklearn.model_selection import train_test_split\n",
        "X_train, X_test, y_train, y_test = train_test_split(X, y, test_size = 0.2, random_state=42)\n",
        "print(X_train.shape, X_test.shape)\n",
        "print(y_train.shape, y_test.shape)"
      ],
      "metadata": {
        "colab": {
          "base_uri": "https://localhost:8080/"
        },
        "id": "3dtStrsGaO5r",
        "outputId": "85a4355b-94a5-4b09-b19b-cac1cc772538"
      },
      "execution_count": 434,
      "outputs": [
        {
          "output_type": "stream",
          "name": "stdout",
          "text": [
            "(320, 2) (80, 2)\n",
            "(320, 1) (80, 1)\n"
          ]
        }
      ]
    },
    {
      "cell_type": "code",
      "source": [
        "X_max = X_train.max(axis=0, keepdims=True)\n",
        "X_min = X_train.min(axis=0, keepdims=True)"
      ],
      "metadata": {
        "id": "tDXXo5y1aQtx"
      },
      "execution_count": 435,
      "outputs": []
    },
    {
      "cell_type": "code",
      "source": [
        "X_train_scaled = (X_train - X_min)/(X_max - X_min)\n",
        "X_test_scaled = (X_test - X_min)/(X_max - X_min)\n",
        "print(X_train_scaled.shape)\n",
        "print(X_test_scaled.shape)"
      ],
      "metadata": {
        "id": "nPeZbjsHaSdb",
        "colab": {
          "base_uri": "https://localhost:8080/"
        },
        "outputId": "37c2c9a7-8819-452a-8003-d9768ef1d409"
      },
      "execution_count": 436,
      "outputs": [
        {
          "output_type": "stream",
          "name": "stdout",
          "text": [
            "(320, 2)\n",
            "(80, 2)\n"
          ]
        }
      ]
    },
    {
      "cell_type": "code",
      "source": [
        "# print(X_train_scaled.shape, y_train.shape)\n",
        "X_train_new = np.hstack((np.ones([X_train_scaled.shape[0],1]), X_train_scaled))\n",
        "X_test_new = np.hstack((np.ones([X_test_scaled.shape[0], 1]), X_test_scaled))\n",
        "# print(X_train_new.shape,y_train.shape)\n",
        "print(X_train_new.shape)"
      ],
      "metadata": {
        "colab": {
          "base_uri": "https://localhost:8080/"
        },
        "id": "YKnA_u-PaUa8",
        "outputId": "6e4a8bdb-effb-44cb-e344-8b0f4de1bd93"
      },
      "execution_count": 437,
      "outputs": [
        {
          "output_type": "stream",
          "name": "stdout",
          "text": [
            "(320, 3)\n"
          ]
        }
      ]
    },
    {
      "cell_type": "code",
      "source": [
        "# sigmoid function\n",
        "g = lambda z : np.exp(z) / (1+np.exp(z))\n",
        "\n",
        "def predict_prob(X,w):\n",
        "  z = np.dot(X,w.T) \n",
        "  return g(z)\n",
        "\n",
        "def predict(X,w):\n",
        "  y_hat = predict_prob(X,w)\n",
        "  y_hat[y_hat >=0.5] =1\n",
        "  y_hat[y_hat <0.5] =0\n",
        "  return y_hat\n",
        "\n",
        "def loss(X,y,w):\n",
        "  y_hat = predict_prob(X,w)\n",
        "  l = y*np.log(y_hat) + (1-y)*np.log(1-y_hat)\n",
        "  return -np.mean(l)\n",
        "\n",
        "def grad(X,y,w):\n",
        "  y_hat = predict_prob(X,w)\n",
        "  delta = y_hat - y\n",
        "  dw = np.dot(X.T,delta)\n",
        "  return dw.T\n",
        "\n",
        "def gradient_descent(X,y,lr = 0.02, epochs = 1000):\n",
        "  w = np.zeros((1, X.shape[1]))\n",
        "  losses = []\n",
        "  for i in range(epochs):\n",
        "    for X_batch, y_batch in batch_generator(X, y):\n",
        "      dw = grad(X_batch,y_batch,w)\n",
        "      w -= lr*dw \n",
        "    losses.append(loss(X,y,w))\n",
        "  return losses,w\n",
        "\n",
        "def batch_generator(X, y, batch_size=32):\n",
        "  idx = np.arange(X.shape[0])\n",
        "  np.random.shuffle(idx)\n",
        "\n",
        "  n_batch = len(idx) // batch_size\n",
        "  for i in range(n_batch):\n",
        "    i_start = i * batch_size\n",
        "    i_stop = min((i+1) * batch_size, len(idx))\n",
        "    yield X[i_start:i_stop, :], y[i_start:i_stop, :]"
      ],
      "metadata": {
        "id": "NdfEqsaFaWmV"
      },
      "execution_count": 438,
      "outputs": []
    },
    {
      "cell_type": "code",
      "source": [
        "l,w = gradient_descent(X_train_new, y_train)\n",
        "plt.plot(l)"
      ],
      "metadata": {
        "colab": {
          "base_uri": "https://localhost:8080/",
          "height": 447
        },
        "id": "HyRiKUVugVZW",
        "outputId": "b66af945-1c5b-4b0e-de03-6619c2a0bcc1"
      },
      "execution_count": 439,
      "outputs": [
        {
          "output_type": "execute_result",
          "data": {
            "text/plain": [
              "[<matplotlib.lines.Line2D at 0x7f512a229100>]"
            ]
          },
          "metadata": {},
          "execution_count": 439
        },
        {
          "output_type": "display_data",
          "data": {
            "text/plain": [
              "<Figure size 640x480 with 1 Axes>"
            ],
            "image/png": "[encoded data removed]"
          },
          "metadata": {}
        }
      ]
    },
    {
      "cell_type": "code",
      "source": [
        "def accuracy(y_true, y_pred):\n",
        "    tp = tn = fp = fn = 0 \n",
        "    for i in range(len(y_true)): \n",
        "        if y_true[i] == 1 and y_pred[i] == 1: \n",
        "            tp += 1\n",
        "        elif y_true[i] == 0 and y_pred[i] == 0: \n",
        "            tn += 1\n",
        "        elif y_true[i] == 0 and y_pred[i] == 1: \n",
        "            fp += 1\n",
        "        elif y_true[i] == 1 and y_pred[i] == 0: \n",
        "            fn += 1 \n",
        "    \n",
        "    acc = (tp+tn)/(tp+tn+fp+fn)\n",
        "    precision = (tp)/(tp+fp)\n",
        "    recall = (tp)/(tp+fn)\n",
        "    f1_score = (2* precision * recall) / (recall + precision)\n",
        "    print(f\"Accuracy = {(acc)}\")\n",
        "    print(f\"Precision = {precision}\")\n",
        "    print(f\"Recall = {recall}\")\n",
        "    print(f\"f1_score = {f1_score}\")\n",
        "    "
      ],
      "metadata": {
        "id": "VrIHl0cMIf-d"
      },
      "execution_count": 440,
      "outputs": []
    },
    {
      "cell_type": "code",
      "source": [
        "y_pred = predict(X_test_new, w)\n",
        "accuracy(y_test,y_pred)"
      ],
      "metadata": {
        "colab": {
          "base_uri": "https://localhost:8080/"
        },
        "id": "JvxdFMRMIpJ-",
        "outputId": "b0c17193-265e-46a5-d83f-910646b919d0"
      },
      "execution_count": 441,
      "outputs": [
        {
          "output_type": "stream",
          "name": "stdout",
          "text": [
            "Accuracy = 0.8625\n",
            "Precision = 0.9047619047619048\n",
            "Recall = 0.6785714285714286\n",
            "f1_score = 0.7755102040816326\n"
          ]
        }
      ]
    },
    {
      "cell_type": "code",
      "source": [
        "from sklearn.metrics import classification_report\n",
        "y_pred1 = predict(X_test_new,w)\n",
        "report = classification_report(y_test, y_pred1)\n",
        "print(report)"
      ],
      "metadata": {
        "colab": {
          "base_uri": "https://localhost:8080/"
        },
        "id": "-EXDQKv_acix",
        "outputId": "d14a7d00-6a32-41e4-8b3e-eb9101aae865"
      },
      "execution_count": 442,
      "outputs": [
        {
          "output_type": "stream",
          "name": "stdout",
          "text": [
            "              precision    recall  f1-score   support\n",
            "\n",
            "           0       0.85      0.96      0.90        52\n",
            "           1       0.90      0.68      0.78        28\n",
            "\n",
            "    accuracy                           0.86        80\n",
            "   macro avg       0.88      0.82      0.84        80\n",
            "weighted avg       0.87      0.86      0.86        80\n",
            "\n"
          ]
        }
      ]
    },
    {
      "cell_type": "markdown",
      "source": [
        "ACt4"
      ],
      "metadata": {
        "id": "UGnKVinRpzBQ"
      }
    },
    {
      "cell_type": "code",
      "source": [
        "# def sigmoid(z):\n",
        "#     z = np.float64(z)\n",
        "#     return 1/(1 +np.exp(-z))\n",
        "# class SigmoidLayer:\n",
        "#   def __init__(self, n_inp, n_out, bias=True):\n",
        "#     if bias: n_inp += 1\n",
        "#     w = np.random.randn(n_inp, n_out)\n",
        "#     self.w = w\n",
        "#     self.bias = bias\n",
        "#     self.is_forward = False\n",
        "\n",
        "#   def forward(self, X):\n",
        "#     if self.bias:\n",
        "#       X = np.hstack((np.ones((X.shape[0],1)), X))\n",
        "#     z = np.dot(X, self.w)\n",
        "#     a = sigmoid(z)\n",
        "\n",
        "#     self.is_forward = True\n",
        "#     self.x = X \n",
        "#     self.a = a\n",
        "#     return a\n",
        "\n",
        "#   def back_propagation(self, delta):\n",
        "#     a = self.a\n",
        "#     dw = np.dot(self.x.T, delta * a * (1.0-a))\n",
        "\n",
        "#     if self.bias:\n",
        "#       da = np.dot(delta * a * (1.0-a), self.w.T)[:,1:]\n",
        "#     else:\n",
        "#       da = np.dot(delta * a * (1.0-a), self.w.T)\n",
        "#     return dw,da\n",
        "    "
      ],
      "metadata": {
        "id": "M-9-DCuwaokD"
      },
      "execution_count": 443,
      "outputs": []
    },
    {
      "cell_type": "code",
      "source": [
        "g = lambda z: 1/(1+np.exp(-z))\n",
        "\n",
        "class SigmoidLayer:\n",
        "  def __init__(self, n_inp, n_out, bias=True):\n",
        "    if bias: n_inp+=1\n",
        "    w=np.random.randn(n_inp,n_out)\n",
        "    self.w=w\n",
        "    self.bias=bias\n",
        "    self.is_forward=False\n",
        "\n",
        "  def forward(self,X):\n",
        "    if self.bias:\n",
        "      X=np.hstack((np.ones((X.shape[0],1)),X))\n",
        "    z=np.dot(X,self.w)\n",
        "    a=g(z)\n",
        "\n",
        "    self.is_forward = True\n",
        "    self.x=X\n",
        "    self.a=a\n",
        "    return a\n",
        "  \n",
        "  def back_propagation(self,delta):\n",
        "    a=self.a\n",
        "    dw=np.dot(self.x.T, delta*a*(1.0-a))\n",
        "\n",
        "    if self.bias:\n",
        "      da = np.dot(delta*a*(1.0-a), self.w.T)[:,1:]\n",
        "    else:\n",
        "      da = np.dot(delta*a*(1.0-a),self.w.T)\n",
        "\n",
        "    return dw,da\n",
        "\n"
      ],
      "metadata": {
        "id": "FX80UB7Bn1VH"
      },
      "execution_count": 444,
      "outputs": []
    },
    {
      "cell_type": "code",
      "source": [
        "NDIMS = 3\n",
        "L1 = 32\n",
        "L2 = 32\n",
        "L3 = 16\n",
        "L4 = 8\n",
        "epochs = 500\n",
        "lr = 0.02\n",
        "\n",
        "layers = [SigmoidLayer(NDIMS, L1, bias=False),\n",
        "          SigmoidLayer(L1,L2),\n",
        "          SigmoidLayer(L2,L3),\n",
        "          SigmoidLayer(L3,L4),\n",
        "          SigmoidLayer(L4,1)]\n",
        "\n",
        "def predict (X,model):\n",
        "  for l in model:\n",
        "    X = l.forward(X)\n",
        "  return X \n",
        "\n",
        "y_pred = predict(X_train_new, model = layers)\n",
        "\n",
        "def loss(y, y_hat):\n",
        "  l = y*np.log(y_hat)+(1-y)*np.log(1-y_hat)\n",
        "  return -np.mean(l)\n",
        "\n",
        "def predict_prob(X,model):\n",
        "  y_hat = predict(X,model)\n",
        "  y_hat[y_hat>=0.5] = 1\n",
        "  y_hat[y_hat<0.5] = 0 \n",
        "  return y_hat\n",
        "\n",
        "def batch_generator1(X, y, batch_size=32):\n",
        "  idx = np.arange(X.shape[0])\n",
        "  np.random.shuffle(idx)\n",
        "\n",
        "  n_batch = len(idx) // batch_size\n",
        "  for i in range(n_batch):\n",
        "    i_start = i * batch_size\n",
        "    i_stop = min((i+1) * batch_size, len(idx))\n",
        "    yield X[i_start:i_stop, :], y[i_start:i_stop, :]"
      ],
      "metadata": {
        "id": "uS1A_em-VswL"
      },
      "execution_count": 445,
      "outputs": []
    },
    {
      "cell_type": "code",
      "source": [
        "def train_step(X,y,model,lr=0.01):\n",
        "  y_pred = predict(X,model)\n",
        "  delta = y_pred - y\n",
        "\n",
        "  for l in reversed(model):\n",
        "    dw, delta = l.back_propagation(delta)\n",
        "    l.w -= lr*dw\n",
        "\n"
      ],
      "metadata": {
        "id": "3EpuhRsOXGgf"
      },
      "execution_count": 446,
      "outputs": []
    },
    {
      "cell_type": "code",
      "source": [
        "for i in range(10000):\n",
        "  for X_batch,y_batch in batch_generator(X_train_new,y_train): \n",
        "    train_step(X_batch,y_batch,model=layers)"
      ],
      "metadata": {
        "id": "umxzRn8qeHk3"
      },
      "execution_count": 447,
      "outputs": []
    },
    {
      "cell_type": "code",
      "source": [
        "def accuracy(y_true, y_pred):\n",
        "  tp = tn = fp = fn = 0 \n",
        "  for i in range(len(y_true)): \n",
        "    if y_true[i] == 1 and y_pred[i] == 1: \n",
        "      tp += 1 \n",
        "    elif y_true[i] == 0 and y_pred[i] == 0: \n",
        "      tn += 1 \n",
        "    elif y_true[i] == 0 and y_pred[i] == 1: \n",
        "      fp += 1 \n",
        "    elif y_true[i] == 1 and y_pred[i] == 0: \n",
        "      fn += 1 \n",
        "\n",
        "  acc = (tp+tn) / (tp+tn+fp+fn)\n",
        "  pre = (tp) / (tp+fp)\n",
        "  recall = tp / (tp+fn)\n",
        "  f1_score = (2*pre*recall) / (recall+pre)\n",
        "\n",
        "    \n",
        "  print(\"Accuracy: \", acc)\n",
        "  print(\"Precision: \", pre)\n",
        "  print(\"Recall: \", recall)\n",
        "  print(\"f1_score: \", f1_score)"
      ],
      "metadata": {
        "id": "VBrMTs7auReI"
      },
      "execution_count": 448,
      "outputs": []
    },
    {
      "cell_type": "code",
      "source": [
        "y_pred1 = predict_prob(X_test_new,model=layers)\n",
        "accuracy(y_test,y_pred1)\n"
      ],
      "metadata": {
        "id": "_0u3tK5EuTtE",
        "colab": {
          "base_uri": "https://localhost:8080/"
        },
        "outputId": "155c172b-aff8-47d0-c2c0-2a6e4f17561e"
      },
      "execution_count": 449,
      "outputs": [
        {
          "output_type": "stream",
          "name": "stdout",
          "text": [
            "Accuracy:  0.9375\n",
            "Precision:  0.8709677419354839\n",
            "Recall:  0.9642857142857143\n",
            "f1_score:  0.9152542372881356\n"
          ]
        }
      ]
    },
    {
      "cell_type": "code",
      "source": [
        "from sklearn.metrics import classification_report\n",
        "# y_pred1 = predict(X_test_new, model=layers)\n",
        "y_pred2 = predict_prob(X_test_new,model=layers)\n",
        "report = classification_report(y_test, y_pred2)\n",
        "print(report)\n"
      ],
      "metadata": {
        "id": "eVQlt6cLjwI5",
        "colab": {
          "base_uri": "https://localhost:8080/"
        },
        "outputId": "c63a9b8e-7081-4fda-f0a9-efd687e8e8c2"
      },
      "execution_count": 450,
      "outputs": [
        {
          "output_type": "stream",
          "name": "stdout",
          "text": [
            "              precision    recall  f1-score   support\n",
            "\n",
            "           0       0.98      0.92      0.95        52\n",
            "           1       0.87      0.96      0.92        28\n",
            "\n",
            "    accuracy                           0.94        80\n",
            "   macro avg       0.93      0.94      0.93        80\n",
            "weighted avg       0.94      0.94      0.94        80\n",
            "\n"
          ]
        }
      ]
    }
  ]
}