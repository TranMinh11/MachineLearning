{
  "nbformat": 4,
  "nbformat_minor": 0,
  "metadata": {
    "colab": {
      "provenance": [],
      "gpuType": "T4"
    },
    "kernelspec": {
      "name": "python3",
      "display_name": "Python 3"
    },
    "language_info": {
      "name": "python"
    },
    "accelerator": "GPU",
    "gpuClass": "standard"
  },
  "cells": [
    {
      "cell_type": "code",
      "execution_count": 1,
      "metadata": {
        "colab": {
          "base_uri": "https://localhost:8080/"
        },
        "id": "x_z0NMNgOlL3",
        "outputId": "0178ca14-39ce-4053-ec70-058049a9971f"
      },
      "outputs": [
        {
          "output_type": "stream",
          "name": "stdout",
          "text": [
            "Mounted at /content/drive\n"
          ]
        }
      ],
      "source": [
        "from google.colab import drive\n",
        "drive.mount('/content/drive')"
      ]
    },
    {
      "cell_type": "markdown",
      "source": [
        "Detect Face"
      ],
      "metadata": {
        "id": "lMgUvHC6A_LL"
      }
    },
    {
      "cell_type": "code",
      "source": [
        "# !unzip /content/drive/MyDrive/data/data_face_HUS.zip "
      ],
      "metadata": {
        "id": "__NM4elAA-hI"
      },
      "execution_count": 2,
      "outputs": []
    },
    {
      "cell_type": "code",
      "source": [
        "# !pip install facenet_pytorch"
      ],
      "metadata": {
        "id": "JE2U5ocyBIca"
      },
      "execution_count": 3,
      "outputs": []
    },
    {
      "cell_type": "code",
      "source": [
        "# !pip install mtcnn"
      ],
      "metadata": {
        "id": "ri7lYPCxBI79"
      },
      "execution_count": 4,
      "outputs": []
    },
    {
      "cell_type": "code",
      "source": [
        "# import os\n",
        "# import cv2\n",
        "# from mtcnn import MTCNN\n",
        "\n",
        "# # Đường dẫn tới thư mục chứa các tệp ảnh cần detect khuôn mặt\n",
        "# image_dir = '/content/data_face_HUS'\n",
        "\n",
        "# # Đường dẫn tới thư mục lưu các tệp ảnh đã được detect khuôn mặt\n",
        "# # output_dir = '/content/detect_face'\n",
        "\n",
        "# # Tạo đối tượng detector MTCNN\n",
        "# detector = MTCNN()\n",
        "\n",
        "# for person_dir in os.listdir(image_dir):\n",
        "#     person_path = os.path.join(image_dir, person_dir)\n",
        "#     if os.path.isdir(person_path):\n",
        "#         # Tạo thư mục đầu ra cho người này nếu chưa tồn tại\n",
        "#         output_dir = os.path.join('/content/drive/MyDrive/detect_face', person_dir)\n",
        "#         if not os.path.exists(output_dir):\n",
        "#             os.makedirs(output_dir)\n",
        "\n",
        "#         # Lặp qua từng tệp ảnh trong thư mục\n",
        "#         for filename in os.listdir(person_path):\n",
        "#           if filename.endswith('.jpg') or filename.endswith('.jpeg') or filename.endswith('.png'):\n",
        "#             # Tạo đường dẫn đầy đủ tới tệp ảnh\n",
        "#             img_path = os.path.join(person_path, filename)\n",
        "\n",
        "#             # Đọc ảnh từ tệp\n",
        "#             img = cv2.imread(img_path)\n",
        "\n",
        "#             # Sử dụng MTCNN để detect khuôn mặt\n",
        "#             result = detector.detect_faces(img)\n",
        "\n",
        "#             # Lặp qua từng khuôn mặt đã detect được\n",
        "#             for i, face in enumerate(result):\n",
        "#                 # Lấy vị trí của khuôn mặt\n",
        "#                 x, y, width, height = face['box']\n",
        "\n",
        "#                 # Cắt ảnh ra để chỉ chứa khuôn mặt\n",
        "#                 face_img = img[y:y+height, x:x+width]\n",
        "\n",
        "#                 # Tạo tên tệp ảnh mới trong thư mục output\n",
        "#                 new_filename = os.path.splitext(filename)[0] + f'_face_{i}.jpg'\n",
        "#                 output_path = os.path.join(output_dir, new_filename)\n",
        "                \n",
        "\n",
        "#                 # Lưu ảnh khuôn mặt vào thư mục output\n",
        "#                 cv2.imwrite(output_path, face_img)\n",
        "\n",
        "#                 print(f'Đã detect khuôn mặt và lưu vào {output_path}')\n"
      ],
      "metadata": {
        "id": "OmCsxIgaBK0v"
      },
      "execution_count": 5,
      "outputs": []
    },
    {
      "cell_type": "markdown",
      "source": [
        "Code"
      ],
      "metadata": {
        "id": "AkrWd-wKBOFW"
      }
    },
    {
      "cell_type": "code",
      "source": [
        "!unzip /content/drive/MyDrive/data/detect_face_HUS.zip"
      ],
      "metadata": {
        "id": "qAAciSU4O29Z"
      },
      "execution_count": null,
      "outputs": []
    },
    {
      "cell_type": "code",
      "source": [
        "import numpy as np\n",
        "from matplotlib import pyplot as plt"
      ],
      "metadata": {
        "id": "iigdIXZdYb1y"
      },
      "execution_count": 7,
      "outputs": []
    },
    {
      "cell_type": "code",
      "source": [
        "import cv2\n",
        "import os\n",
        "import glob\n",
        "\n",
        "# Đường dẫn đến thư mục chứa các thư mục con chứa ảnh của từng người\n",
        "root_dir = '/content/detect_face'\n",
        "\n",
        "X = []\n",
        "y = []\n",
        "label=0\n",
        "\n",
        "# Duyệt qua tất cả các thư mục con\n",
        "for person_dir in os.listdir(root_dir):\n",
        "    person_path = os.path.join(root_dir, person_dir)\n",
        "    # print(person_path)\n",
        "    temp = person_path.split('/')\n",
        "    # label = temp[-1].split(\"_\")[0]\n",
        "    \n",
        "    # print(label)\n",
        "    image_list = glob.glob(person_path + \"/*\")\n",
        "    # print(len(image_list))\n",
        "    for name in image_list:\n",
        "        img = cv2.imread(name) \n",
        "        img = cv2.cvtColor(img, cv2.COLOR_BGR2GRAY) # convert ảnh thành gray\n",
        "        img = cv2.resize(img, (50,50)) # chỉnh lại kích thước thành 50*50 pixel\n",
        "        X.append((img))\n",
        "        y.append(label)\n",
        "    label+=1\n"
      ],
      "metadata": {
        "id": "MGCvcbPuYr3D"
      },
      "execution_count": 8,
      "outputs": []
    },
    {
      "cell_type": "code",
      "source": [
        "len(X)"
      ],
      "metadata": {
        "colab": {
          "base_uri": "https://localhost:8080/"
        },
        "id": "tfHzPdC4Y0jh",
        "outputId": "046c722d-2ab3-4536-f58a-d030a8280ff0"
      },
      "execution_count": 9,
      "outputs": [
        {
          "output_type": "execute_result",
          "data": {
            "text/plain": [
              "945"
            ]
          },
          "metadata": {},
          "execution_count": 9
        }
      ]
    },
    {
      "cell_type": "code",
      "source": [
        "len(y)"
      ],
      "metadata": {
        "colab": {
          "base_uri": "https://localhost:8080/"
        },
        "id": "03EwZTBlZJcc",
        "outputId": "a0f03caa-8e77-43fb-b079-625b5c682082"
      },
      "execution_count": 10,
      "outputs": [
        {
          "output_type": "execute_result",
          "data": {
            "text/plain": [
              "945"
            ]
          },
          "metadata": {},
          "execution_count": 10
        }
      ]
    },
    {
      "cell_type": "code",
      "source": [
        "X = np.array(X)\n",
        "y = np.array(y)\n",
        "\n",
        "print(X.shape)\n",
        "print(y.shape)"
      ],
      "metadata": {
        "colab": {
          "base_uri": "https://localhost:8080/"
        },
        "id": "pkpkozMuZLbj",
        "outputId": "2f41bcdd-5318-418f-8287-8d15ba229090"
      },
      "execution_count": 11,
      "outputs": [
        {
          "output_type": "stream",
          "name": "stdout",
          "text": [
            "(945, 50, 50)\n",
            "(945,)\n"
          ]
        }
      ]
    },
    {
      "cell_type": "code",
      "source": [
        "from sklearn.model_selection import train_test_split\n",
        "X_train, X_test, y_train, y_test = train_test_split(X, y, test_size = 0.2, random_state=42)\n",
        "print(X_train.shape, X_test.shape)\n",
        "print(y_train.shape, y_test.shape)"
      ],
      "metadata": {
        "colab": {
          "base_uri": "https://localhost:8080/"
        },
        "id": "3JMrG1evZN45",
        "outputId": "817321b7-8729-49dd-e613-aa34cbdb5018"
      },
      "execution_count": 12,
      "outputs": [
        {
          "output_type": "stream",
          "name": "stdout",
          "text": [
            "(756, 50, 50) (189, 50, 50)\n",
            "(756,) (189,)\n"
          ]
        }
      ]
    },
    {
      "cell_type": "code",
      "source": [
        "from tensorflow.keras.layers import Conv2D, Dropout, MaxPooling2D, Flatten, Dense, Input\n",
        "from tensorflow.keras.models import Model\n",
        "from tensorflow.keras import backend as K\n",
        "\n",
        "inp = Input(shape=(50,50,1))\n",
        "x = Conv2D(filters = 16, kernel_size=3, activation='relu')(inp)\n",
        "x = MaxPooling2D(pool_size=(2,2))(x)\n",
        "\n",
        "\n",
        "x = Conv2D(filters = 32, kernel_size=3, activation='relu')(inp)\n",
        "x = MaxPooling2D(pool_size=(2,2))(x)\n",
        "x = Dropout(0.25)(x)\n",
        "\n",
        "# x = Conv2D(filters = 64, kernel_size=3, activation='relu')(inp)\n",
        "# x = MaxPooling2D(pool_size=(2,2))(x)\n",
        "# x = Dropout(0.25)(x)\n",
        "\n",
        "x = Flatten()(x)\n",
        "x = Dense(units=256, activation='relu')(x)\n",
        "x = Dropout(0.25)(x)\n",
        "x = Dense(units=2)(x)\n",
        "\n",
        "cnn = Model(inputs=inp, outputs=x)\n",
        "\n",
        "img1 = Input(shape=(50,50,1))\n",
        "img2 = Input(shape=(50,50,1))\n",
        "\n",
        "f1 = cnn(img1)\n",
        "f2 = cnn(img2)\n",
        "\n",
        "d = K.sqrt(K.sum(K.square(f1-f2), axis=1, keepdims=True))\n",
        "\n",
        "model = Model(inputs=[img1, img2], outputs=d)\n",
        "model.summary()\n",
        "cnn.summary()\n",
        "\n",
        "def loss(y_true, y_pred):\n",
        "  proba = K.exp(-K.square(y_pred))\n",
        "  return -K.mean(y_true * K.log(proba) + (1-y_true)*K.log(1-proba))\n",
        "\n",
        "def loss1(y_true, y_pred):\n",
        "  return K.mean(y_true*K.square(y_pred) + (1-y_true) * K.square(K.maximum(1.0 - y_pred,0)))\n",
        "\n",
        "model.compile(optimizer='adam',loss=loss1)"
      ],
      "metadata": {
        "colab": {
          "base_uri": "https://localhost:8080/"
        },
        "id": "0d9HFiIBZQFT",
        "outputId": "6c980e2d-1a13-4869-b690-1868fb458862"
      },
      "execution_count": 24,
      "outputs": [
        {
          "output_type": "stream",
          "name": "stdout",
          "text": [
            "Model: \"model_3\"\n",
            "__________________________________________________________________________________________________\n",
            " Layer (type)                   Output Shape         Param #     Connected to                     \n",
            "==================================================================================================\n",
            " input_5 (InputLayer)           [(None, 50, 50, 1)]  0           []                               \n",
            "                                                                                                  \n",
            " input_6 (InputLayer)           [(None, 50, 50, 1)]  0           []                               \n",
            "                                                                                                  \n",
            " model_2 (Functional)           (None, 2)            4719682     ['input_5[0][0]',                \n",
            "                                                                  'input_6[0][0]']                \n",
            "                                                                                                  \n",
            " tf.math.subtract_1 (TFOpLambda  (None, 2)           0           ['model_2[0][0]',                \n",
            " )                                                                'model_2[1][0]']                \n",
            "                                                                                                  \n",
            " tf.math.square_1 (TFOpLambda)  (None, 2)            0           ['tf.math.subtract_1[0][0]']     \n",
            "                                                                                                  \n",
            " tf.math.reduce_sum_1 (TFOpLamb  (None, 1)           0           ['tf.math.square_1[0][0]']       \n",
            " da)                                                                                              \n",
            "                                                                                                  \n",
            " tf.math.maximum_1 (TFOpLambda)  (None, 1)           0           ['tf.math.reduce_sum_1[0][0]']   \n",
            "                                                                                                  \n",
            " tf.math.sqrt_1 (TFOpLambda)    (None, 1)            0           ['tf.math.maximum_1[0][0]']      \n",
            "                                                                                                  \n",
            "==================================================================================================\n",
            "Total params: 4,719,682\n",
            "Trainable params: 4,719,682\n",
            "Non-trainable params: 0\n",
            "__________________________________________________________________________________________________\n",
            "Model: \"model_2\"\n",
            "_________________________________________________________________\n",
            " Layer (type)                Output Shape              Param #   \n",
            "=================================================================\n",
            " input_4 (InputLayer)        [(None, 50, 50, 1)]       0         \n",
            "                                                                 \n",
            " conv2d_3 (Conv2D)           (None, 48, 48, 32)        320       \n",
            "                                                                 \n",
            " max_pooling2d_3 (MaxPooling  (None, 24, 24, 32)       0         \n",
            " 2D)                                                             \n",
            "                                                                 \n",
            " dropout_1 (Dropout)         (None, 24, 24, 32)        0         \n",
            "                                                                 \n",
            " flatten_1 (Flatten)         (None, 18432)             0         \n",
            "                                                                 \n",
            " dense_2 (Dense)             (None, 256)               4718848   \n",
            "                                                                 \n",
            " dropout_2 (Dropout)         (None, 256)               0         \n",
            "                                                                 \n",
            " dense_3 (Dense)             (None, 2)                 514       \n",
            "                                                                 \n",
            "=================================================================\n",
            "Total params: 4,719,682\n",
            "Trainable params: 4,719,682\n",
            "Non-trainable params: 0\n",
            "_________________________________________________________________\n"
          ]
        }
      ]
    },
    {
      "cell_type": "code",
      "source": [
        "import numpy as np\n",
        "from matplotlib import pyplot as plt\n",
        "\n",
        "def generator(X,y,k=8):\n",
        "  unique_labels = np.unique(y)\n",
        "\n",
        "  while True: \n",
        "    X1 = []\n",
        "    X2 = []\n",
        "    y_batch =[]\n",
        "    for label in unique_labels:\n",
        "      label_idx = np.where(y==label)[0]\n",
        "      other_labels = set(unique_labels) - {label}\n",
        "\n",
        "      for i in range(k):\n",
        "        i1 = np.random.choice(label_idx)\n",
        "        i2 = np.random.choice(label_idx)\n",
        "\n",
        "        # while i1==i2:\n",
        "        #   i2 = np.random.choice(label_idx)\n",
        "        \n",
        "        X1.append(X[i1][:,:,None])\n",
        "        X2.append(X[i2][:,:,None])\n",
        "        y_batch.append(1.0)\n",
        "\n",
        "        i1 = np.random.choice(label_idx)\n",
        "        my_label = np.random.choice(list(other_labels))\n",
        "        i2 = np.random.choice(list(np.where(y == my_label)[0]))\n",
        "        X1.append(X[i1][:,:,None])\n",
        "        X2.append(X[i2][:,:,None])\n",
        "        y_batch.append(0.0)\n",
        "    yield [np.array(X1)/255, np.array(X2)/255], np.array(y_batch)\n",
        "\n",
        "for pair, y in generator(X_test, y_test):\n",
        "  print('Batch size: ', len(y))\n",
        "  idx = np.random.choice(range(len(y)))\n",
        "  print(pair[0][idx].shape)\n",
        "  print('Pair label: ', y[idx])\n",
        "  plt.subplot(121)\n",
        "  plt.imshow(pair[0][idx].reshape(50,50), cmap='gray')\n",
        "  plt.subplot(122)\n",
        "  plt.imshow(pair[1][idx].reshape(50,50), cmap='gray')\n",
        "\n",
        "  break\n",
        "\n"
      ],
      "metadata": {
        "colab": {
          "base_uri": "https://localhost:8080/",
          "height": 341
        },
        "id": "Hq-a_Ygfar7g",
        "outputId": "2a89566d-7535-4bf4-8be7-c64e2249ca75"
      },
      "execution_count": 51,
      "outputs": [
        {
          "output_type": "stream",
          "name": "stdout",
          "text": [
            "Batch size:  736\n",
            "(50, 50, 1)\n",
            "Pair label:  1.0\n"
          ]
        },
        {
          "output_type": "display_data",
          "data": {
            "text/plain": [
              "<Figure size 640x480 with 2 Axes>"
            ],
            "image/png": "[encoded data removed]"
          },
          "metadata": {}
        }
      ]
    },
    {
      "cell_type": "code",
      "source": [
        "history = model.fit(generator(X_train,y_train,k=32),\n",
        "                    steps_per_epoch=5,\n",
        "                    epochs=100,\n",
        "                    validation_data=generator(X_test,y_test,k=10),\n",
        "                    validation_steps=5)"
      ],
      "metadata": {
        "colab": {
          "base_uri": "https://localhost:8080/"
        },
        "id": "hwTR-_O0axGw",
        "outputId": "e7588a63-e294-4e35-d1d9-0572b82b6fdc"
      },
      "execution_count": 26,
      "outputs": [
        {
          "output_type": "stream",
          "name": "stdout",
          "text": [
            "Epoch 1/100\n",
            "5/5 [==============================] - 4s 479ms/step - loss: 0.4322 - val_loss: 0.2079\n",
            "Epoch 2/100\n",
            "5/5 [==============================] - 2s 421ms/step - loss: 0.2329 - val_loss: 0.1561\n",
            "Epoch 3/100\n",
            "5/5 [==============================] - 2s 404ms/step - loss: 0.1668 - val_loss: 0.1130\n",
            "Epoch 4/100\n",
            "5/5 [==============================] - 2s 407ms/step - loss: 0.1474 - val_loss: 0.1084\n",
            "Epoch 5/100\n",
            "5/5 [==============================] - 2s 391ms/step - loss: 0.1295 - val_loss: 0.1066\n",
            "Epoch 6/100\n",
            "5/5 [==============================] - 2s 517ms/step - loss: 0.1179 - val_loss: 0.1046\n",
            "Epoch 7/100\n",
            "5/5 [==============================] - 2s 547ms/step - loss: 0.1106 - val_loss: 0.1004\n",
            "Epoch 8/100\n",
            "5/5 [==============================] - 2s 427ms/step - loss: 0.1024 - val_loss: 0.0960\n",
            "Epoch 9/100\n",
            "5/5 [==============================] - 2s 409ms/step - loss: 0.0981 - val_loss: 0.0918\n",
            "Epoch 10/100\n",
            "5/5 [==============================] - 2s 358ms/step - loss: 0.0919 - val_loss: 0.0918\n",
            "Epoch 11/100\n",
            "5/5 [==============================] - 2s 342ms/step - loss: 0.0858 - val_loss: 0.0889\n",
            "Epoch 12/100\n",
            "5/5 [==============================] - 2s 377ms/step - loss: 0.0829 - val_loss: 0.0838\n",
            "Epoch 13/100\n",
            "5/5 [==============================] - 2s 451ms/step - loss: 0.0823 - val_loss: 0.0854\n",
            "Epoch 14/100\n",
            "5/5 [==============================] - 2s 548ms/step - loss: 0.0792 - val_loss: 0.0807\n",
            "Epoch 15/100\n",
            "5/5 [==============================] - 2s 368ms/step - loss: 0.0786 - val_loss: 0.0814\n",
            "Epoch 16/100\n",
            "5/5 [==============================] - 2s 421ms/step - loss: 0.0738 - val_loss: 0.0777\n",
            "Epoch 17/100\n",
            "5/5 [==============================] - 2s 378ms/step - loss: 0.0746 - val_loss: 0.0795\n",
            "Epoch 18/100\n",
            "5/5 [==============================] - 2s 376ms/step - loss: 0.0739 - val_loss: 0.0807\n",
            "Epoch 19/100\n",
            "5/5 [==============================] - 2s 436ms/step - loss: 0.0729 - val_loss: 0.0766\n",
            "Epoch 20/100\n",
            "5/5 [==============================] - 2s 437ms/step - loss: 0.0695 - val_loss: 0.0763\n",
            "Epoch 21/100\n",
            "5/5 [==============================] - 2s 533ms/step - loss: 0.0706 - val_loss: 0.0775\n",
            "Epoch 22/100\n",
            "5/5 [==============================] - 2s 386ms/step - loss: 0.0698 - val_loss: 0.0771\n",
            "Epoch 23/100\n",
            "5/5 [==============================] - 2s 404ms/step - loss: 0.0682 - val_loss: 0.0767\n",
            "Epoch 24/100\n",
            "5/5 [==============================] - 2s 358ms/step - loss: 0.0686 - val_loss: 0.0745\n",
            "Epoch 25/100\n",
            "5/5 [==============================] - 2s 393ms/step - loss: 0.0697 - val_loss: 0.0752\n",
            "Epoch 26/100\n",
            "5/5 [==============================] - 2s 416ms/step - loss: 0.0673 - val_loss: 0.0724\n",
            "Epoch 27/100\n",
            "5/5 [==============================] - 2s 384ms/step - loss: 0.0692 - val_loss: 0.0735\n",
            "Epoch 28/100\n",
            "5/5 [==============================] - 2s 526ms/step - loss: 0.0667 - val_loss: 0.0688\n",
            "Epoch 29/100\n",
            "5/5 [==============================] - 2s 423ms/step - loss: 0.0656 - val_loss: 0.0762\n",
            "Epoch 30/100\n",
            "5/5 [==============================] - 2s 419ms/step - loss: 0.0669 - val_loss: 0.0773\n",
            "Epoch 31/100\n",
            "5/5 [==============================] - 2s 381ms/step - loss: 0.0684 - val_loss: 0.0813\n",
            "Epoch 32/100\n",
            "5/5 [==============================] - 2s 411ms/step - loss: 0.0653 - val_loss: 0.0727\n",
            "Epoch 33/100\n",
            "5/5 [==============================] - 2s 421ms/step - loss: 0.0648 - val_loss: 0.0712\n",
            "Epoch 34/100\n",
            "5/5 [==============================] - 2s 398ms/step - loss: 0.0654 - val_loss: 0.0752\n",
            "Epoch 35/100\n",
            "5/5 [==============================] - 2s 556ms/step - loss: 0.0653 - val_loss: 0.0754\n",
            "Epoch 36/100\n",
            "5/5 [==============================] - 2s 427ms/step - loss: 0.0662 - val_loss: 0.0739\n",
            "Epoch 37/100\n",
            "5/5 [==============================] - 2s 375ms/step - loss: 0.0656 - val_loss: 0.0754\n",
            "Epoch 38/100\n",
            "5/5 [==============================] - 2s 411ms/step - loss: 0.0655 - val_loss: 0.0769\n",
            "Epoch 39/100\n",
            "5/5 [==============================] - 2s 369ms/step - loss: 0.0658 - val_loss: 0.0770\n",
            "Epoch 40/100\n",
            "5/5 [==============================] - 2s 369ms/step - loss: 0.0640 - val_loss: 0.0708\n",
            "Epoch 41/100\n",
            "5/5 [==============================] - 2s 389ms/step - loss: 0.0648 - val_loss: 0.0745\n",
            "Epoch 42/100\n",
            "5/5 [==============================] - 2s 553ms/step - loss: 0.0650 - val_loss: 0.0720\n",
            "Epoch 43/100\n",
            "5/5 [==============================] - 2s 451ms/step - loss: 0.0633 - val_loss: 0.0750\n",
            "Epoch 44/100\n",
            "5/5 [==============================] - 2s 362ms/step - loss: 0.0652 - val_loss: 0.0750\n",
            "Epoch 45/100\n",
            "5/5 [==============================] - 2s 366ms/step - loss: 0.0637 - val_loss: 0.0762\n",
            "Epoch 46/100\n",
            "5/5 [==============================] - 2s 361ms/step - loss: 0.0621 - val_loss: 0.0749\n",
            "Epoch 47/100\n",
            "5/5 [==============================] - 2s 349ms/step - loss: 0.0636 - val_loss: 0.0767\n",
            "Epoch 48/100\n",
            "5/5 [==============================] - 2s 417ms/step - loss: 0.0639 - val_loss: 0.0788\n",
            "Epoch 49/100\n",
            "5/5 [==============================] - 2s 476ms/step - loss: 0.0624 - val_loss: 0.0734\n",
            "Epoch 50/100\n",
            "5/5 [==============================] - 2s 529ms/step - loss: 0.0634 - val_loss: 0.0718\n",
            "Epoch 51/100\n",
            "5/5 [==============================] - 2s 422ms/step - loss: 0.0630 - val_loss: 0.0754\n",
            "Epoch 52/100\n",
            "5/5 [==============================] - 2s 423ms/step - loss: 0.0650 - val_loss: 0.0736\n",
            "Epoch 53/100\n",
            "5/5 [==============================] - 2s 410ms/step - loss: 0.0629 - val_loss: 0.0733\n",
            "Epoch 54/100\n",
            "5/5 [==============================] - 2s 370ms/step - loss: 0.0638 - val_loss: 0.0750\n",
            "Epoch 55/100\n",
            "5/5 [==============================] - 2s 349ms/step - loss: 0.0645 - val_loss: 0.0790\n",
            "Epoch 56/100\n",
            "5/5 [==============================] - 2s 444ms/step - loss: 0.0630 - val_loss: 0.0776\n",
            "Epoch 57/100\n",
            "5/5 [==============================] - 2s 540ms/step - loss: 0.0621 - val_loss: 0.0738\n",
            "Epoch 58/100\n",
            "5/5 [==============================] - 2s 403ms/step - loss: 0.0615 - val_loss: 0.0713\n",
            "Epoch 59/100\n",
            "5/5 [==============================] - 2s 414ms/step - loss: 0.0624 - val_loss: 0.0765\n",
            "Epoch 60/100\n",
            "5/5 [==============================] - 2s 421ms/step - loss: 0.0629 - val_loss: 0.0752\n",
            "Epoch 61/100\n",
            "5/5 [==============================] - 2s 418ms/step - loss: 0.0626 - val_loss: 0.0778\n",
            "Epoch 62/100\n",
            "5/5 [==============================] - 2s 364ms/step - loss: 0.0624 - val_loss: 0.0775\n",
            "Epoch 63/100\n",
            "5/5 [==============================] - 2s 420ms/step - loss: 0.0612 - val_loss: 0.0725\n",
            "Epoch 64/100\n",
            "5/5 [==============================] - 2s 534ms/step - loss: 0.0615 - val_loss: 0.0749\n",
            "Epoch 65/100\n",
            "5/5 [==============================] - 2s 425ms/step - loss: 0.0624 - val_loss: 0.0764\n",
            "Epoch 66/100\n",
            "5/5 [==============================] - 2s 386ms/step - loss: 0.0620 - val_loss: 0.0805\n",
            "Epoch 67/100\n",
            "5/5 [==============================] - 2s 414ms/step - loss: 0.0608 - val_loss: 0.0778\n",
            "Epoch 68/100\n",
            "5/5 [==============================] - 2s 374ms/step - loss: 0.0605 - val_loss: 0.0730\n",
            "Epoch 69/100\n",
            "5/5 [==============================] - 2s 420ms/step - loss: 0.0613 - val_loss: 0.0739\n",
            "Epoch 70/100\n",
            "5/5 [==============================] - 2s 456ms/step - loss: 0.0604 - val_loss: 0.0736\n",
            "Epoch 71/100\n",
            "5/5 [==============================] - 2s 548ms/step - loss: 0.0610 - val_loss: 0.0755\n",
            "Epoch 72/100\n",
            "5/5 [==============================] - 2s 420ms/step - loss: 0.0609 - val_loss: 0.0720\n",
            "Epoch 73/100\n",
            "5/5 [==============================] - 2s 415ms/step - loss: 0.0620 - val_loss: 0.0752\n",
            "Epoch 74/100\n",
            "5/5 [==============================] - 2s 375ms/step - loss: 0.0603 - val_loss: 0.0758\n",
            "Epoch 75/100\n",
            "5/5 [==============================] - 2s 408ms/step - loss: 0.0616 - val_loss: 0.0745\n",
            "Epoch 76/100\n",
            "5/5 [==============================] - 2s 419ms/step - loss: 0.0611 - val_loss: 0.0755\n",
            "Epoch 77/100\n",
            "5/5 [==============================] - 2s 471ms/step - loss: 0.0602 - val_loss: 0.0765\n",
            "Epoch 78/100\n",
            "5/5 [==============================] - 2s 507ms/step - loss: 0.0610 - val_loss: 0.0748\n",
            "Epoch 79/100\n",
            "5/5 [==============================] - 2s 408ms/step - loss: 0.0609 - val_loss: 0.0735\n",
            "Epoch 80/100\n",
            "5/5 [==============================] - 2s 411ms/step - loss: 0.0609 - val_loss: 0.0783\n",
            "Epoch 81/100\n",
            "5/5 [==============================] - 2s 407ms/step - loss: 0.0597 - val_loss: 0.0753\n",
            "Epoch 82/100\n",
            "5/5 [==============================] - 2s 419ms/step - loss: 0.0617 - val_loss: 0.0733\n",
            "Epoch 83/100\n",
            "5/5 [==============================] - 2s 418ms/step - loss: 0.0607 - val_loss: 0.0783\n",
            "Epoch 84/100\n",
            "5/5 [==============================] - 2s 473ms/step - loss: 0.0608 - val_loss: 0.0721\n",
            "Epoch 85/100\n",
            "5/5 [==============================] - 2s 545ms/step - loss: 0.0600 - val_loss: 0.0713\n",
            "Epoch 86/100\n",
            "5/5 [==============================] - 2s 411ms/step - loss: 0.0595 - val_loss: 0.0751\n",
            "Epoch 87/100\n",
            "5/5 [==============================] - 2s 415ms/step - loss: 0.0607 - val_loss: 0.0742\n",
            "Epoch 88/100\n",
            "5/5 [==============================] - 2s 412ms/step - loss: 0.0606 - val_loss: 0.0728\n",
            "Epoch 89/100\n",
            "5/5 [==============================] - 2s 375ms/step - loss: 0.0611 - val_loss: 0.0741\n",
            "Epoch 90/100\n",
            "5/5 [==============================] - 2s 352ms/step - loss: 0.0602 - val_loss: 0.0752\n",
            "Epoch 91/100\n",
            "5/5 [==============================] - 2s 447ms/step - loss: 0.0591 - val_loss: 0.0721\n",
            "Epoch 92/100\n",
            "5/5 [==============================] - 2s 523ms/step - loss: 0.0596 - val_loss: 0.0760\n",
            "Epoch 93/100\n",
            "5/5 [==============================] - 2s 415ms/step - loss: 0.0602 - val_loss: 0.0742\n",
            "Epoch 94/100\n",
            "5/5 [==============================] - 2s 416ms/step - loss: 0.0600 - val_loss: 0.0750\n",
            "Epoch 95/100\n",
            "5/5 [==============================] - 2s 361ms/step - loss: 0.0602 - val_loss: 0.0762\n",
            "Epoch 96/100\n",
            "5/5 [==============================] - 2s 407ms/step - loss: 0.0592 - val_loss: 0.0760\n",
            "Epoch 97/100\n",
            "5/5 [==============================] - 2s 418ms/step - loss: 0.0594 - val_loss: 0.0731\n",
            "Epoch 98/100\n",
            "5/5 [==============================] - 2s 475ms/step - loss: 0.0593 - val_loss: 0.0734\n",
            "Epoch 99/100\n",
            "5/5 [==============================] - 2s 512ms/step - loss: 0.0607 - val_loss: 0.0719\n",
            "Epoch 100/100\n",
            "5/5 [==============================] - 2s 363ms/step - loss: 0.0603 - val_loss: 0.0739\n"
          ]
        }
      ]
    },
    {
      "cell_type": "code",
      "source": [
        "plt.plot(history.history['loss'], label='Train', c='b')\n",
        "plt.plot(history.history['val_loss'], label='Validation', c='r')\n",
        "plt.legend()\n",
        "plt.xlabel('Epochs', fontsize=16)\n",
        "plt.ylabel('Loss', fontsize=16)"
      ],
      "metadata": {
        "colab": {
          "base_uri": "https://localhost:8080/",
          "height": 477
        },
        "id": "7AaB_lBVbedc",
        "outputId": "4569084b-6541-46e6-eeac-78556008b5c2"
      },
      "execution_count": 27,
      "outputs": [
        {
          "output_type": "execute_result",
          "data": {
            "text/plain": [
              "Text(0, 0.5, 'Loss')"
            ]
          },
          "metadata": {},
          "execution_count": 27
        },
        {
          "output_type": "display_data",
          "data": {
            "text/plain": [
              "<Figure size 640x480 with 1 Axes>"
            ],
            "image/png": "[encoded data removed]"
          },
          "metadata": {}
        }
      ]
    },
    {
      "cell_type": "code",
      "source": [
        "for pair, y in generator(X_test,y_test):\n",
        "  y_pred = model.predict(pair)\n",
        "  print('Batch size: ', len(y))\n",
        "  idx = np.random.choice(range(len(y)))\n",
        "  print('Pair label: ', y[idx])\n",
        "  print('Distance: ', y_pred[idx])\n",
        "\n",
        "  f1 = cnn(pair[0])\n",
        "  f2 = cnn(pair[1])\n",
        "  d=np.sqrt(np.sum((f1-f2)**2,axis=1,keepdims=True))\n",
        "  print(\"Distance by feature: \", d[idx])\n",
        "\n",
        "  plt.subplot(121)\n",
        "  plt.imshow(pair[0][idx].reshape(50,50), cmap='gray')\n",
        "  plt.subplot(122)\n",
        "  plt.imshow(pair[1][idx].reshape(50,50), cmap='gray')\n",
        "  break"
      ],
      "metadata": {
        "colab": {
          "base_uri": "https://localhost:8080/",
          "height": 376
        },
        "id": "jlbOapmhbiCD",
        "outputId": "d13c62e9-a619-4aa7-c69c-7c61b8bca0d1"
      },
      "execution_count": 44,
      "outputs": [
        {
          "output_type": "stream",
          "name": "stdout",
          "text": [
            "23/23 [==============================] - 0s 2ms/step\n",
            "Batch size:  736\n",
            "Pair label:  1.0\n",
            "Distance:  [0.07286218]\n",
            "Distance by feature:  [0.07286206]\n"
          ]
        },
        {
          "output_type": "display_data",
          "data": {
            "text/plain": [
              "<Figure size 640x480 with 2 Axes>"
            ],
            "image/png": "[encoded data removed]"
          },
          "metadata": {}
        }
      ]
    },
    {
      "cell_type": "code",
      "source": [
        "f = cnn.predict(X_test/255)\n",
        "p = plt.scatter(f[:,0], f[:,1],c=y_test, s=1)\n",
        "plt.colorbar(p)"
      ],
      "metadata": {
        "colab": {
          "base_uri": "https://localhost:8080/",
          "height": 465
        },
        "id": "GNmdrEombkJY",
        "outputId": "7b8e923c-465b-42c4-d528-fc65d110ee3b"
      },
      "execution_count": 45,
      "outputs": [
        {
          "output_type": "stream",
          "name": "stdout",
          "text": [
            "6/6 [==============================] - 0s 2ms/step\n"
          ]
        },
        {
          "output_type": "execute_result",
          "data": {
            "text/plain": [
              "<matplotlib.colorbar.Colorbar at 0x7f80f005f0d0>"
            ]
          },
          "metadata": {},
          "execution_count": 45
        },
        {
          "output_type": "display_data",
          "data": {
            "text/plain": [
              "<Figure size 640x480 with 2 Axes>"
            ],
            "image/png": "[encoded data removed]"
          },
          "metadata": {}
        }
      ]
    },
    {
      "cell_type": "code",
      "source": [
        "cnn.save('cnn_loss1.h5')"
      ],
      "metadata": {
        "colab": {
          "base_uri": "https://localhost:8080/"
        },
        "id": "OIAN1ggZbs0d",
        "outputId": "53450afe-8e03-4e9e-c131-56308d9d8890"
      },
      "execution_count": 46,
      "outputs": [
        {
          "output_type": "stream",
          "name": "stderr",
          "text": [
            "WARNING:tensorflow:Compiled the loaded model, but the compiled metrics have yet to be built. `model.compile_metrics` will be empty until you train or evaluate the model.\n"
          ]
        }
      ]
    },
    {
      "cell_type": "code",
      "source": [
        "from tensorflow.keras.models import load_model\n",
        "m = load_model('cnn_loss1.h5')\n",
        "\n",
        "f1 = m.predict(X_test/255)\n",
        "p=plt.scatter(f1[:,0], f1[:,1],c=y_test,s=1)\n",
        "plt.colorbar(p)"
      ],
      "metadata": {
        "colab": {
          "base_uri": "https://localhost:8080/",
          "height": 482
        },
        "id": "1SLHmiEybuRZ",
        "outputId": "0456a035-2e99-4cfb-8c65-7a54289a212d"
      },
      "execution_count": 47,
      "outputs": [
        {
          "output_type": "stream",
          "name": "stderr",
          "text": [
            "WARNING:tensorflow:No training configuration found in the save file, so the model was *not* compiled. Compile it manually.\n"
          ]
        },
        {
          "output_type": "stream",
          "name": "stdout",
          "text": [
            "6/6 [==============================] - 0s 3ms/step\n"
          ]
        },
        {
          "output_type": "execute_result",
          "data": {
            "text/plain": [
              "<matplotlib.colorbar.Colorbar at 0x7f8118ec6c50>"
            ]
          },
          "metadata": {},
          "execution_count": 47
        },
        {
          "output_type": "display_data",
          "data": {
            "text/plain": [
              "<Figure size 640x480 with 2 Axes>"
            ],
            "image/png": "[encoded data removed]"
          },
          "metadata": {}
        }
      ]
    },
    {
      "cell_type": "code",
      "source": [
        "i=0\n",
        "y_true = []\n",
        "y_pred = []\n",
        "for pair, y in generator(X_test,y_test):\n",
        "  f1=cnn(pair[0])\n",
        "  f2=cnn(pair[1])\n",
        "  d = np.sqrt(np.sum((f1-f2)**2, axis=1,keepdims=True))\n",
        "  y_pred += list(d.ravel())\n",
        "  y_true += list(y)\n",
        "  i += 1\n",
        "  if i>500:\n",
        "    break"
      ],
      "metadata": {
        "id": "YscXLtgHbvzF"
      },
      "execution_count": 48,
      "outputs": []
    },
    {
      "cell_type": "code",
      "source": [
        "y_pred = np.array(y_pred)\n",
        "y_true = np.array(y_true)\n",
        "\n",
        "positive_distances = y_pred[y_true == 1]\n",
        "negative_distances = y_pred[y_true == 0]\n",
        "\n",
        "plt.hist(positive_distances,color='r', density=True,bins=20)\n",
        "plt.hist(negative_distances, color='b',density=True,bins=20)"
      ],
      "metadata": {
        "colab": {
          "base_uri": "https://localhost:8080/",
          "height": 608
        },
        "id": "Hdf9shtCbwu-",
        "outputId": "a77b09b6-4d8e-49b9-9ba2-d478adf05393"
      },
      "execution_count": 49,
      "outputs": [
        {
          "output_type": "execute_result",
          "data": {
            "text/plain": [
              "(array([0.05809725, 0.19423782, 0.35119499, 0.42041974, 0.5258652 ,\n",
              "        0.57976128, 0.60636868, 0.63857764, 0.6718842 , 0.61302999,\n",
              "        0.53226158, 0.44755693, 0.38495606, 0.32420911, 0.28019146,\n",
              "        0.17887138, 0.1147941 , 0.03890812, 0.01442023, 0.0024223 ]),\n",
              " array([0.02043383, 0.16374078, 0.30704775, 0.45035473, 0.59366167,\n",
              "        0.73696864, 0.88027561, 1.02358258, 1.16688955, 1.31019652,\n",
              "        1.45350349, 1.59681046, 1.74011743, 1.88342428, 2.02673125,\n",
              "        2.17003822, 2.31334519, 2.45665216, 2.59995914, 2.74326611,\n",
              "        2.88657308]),\n",
              " <BarContainer object of 20 artists>)"
            ]
          },
          "metadata": {},
          "execution_count": 49
        },
        {
          "output_type": "display_data",
          "data": {
            "text/plain": [
              "<Figure size 640x480 with 1 Axes>"
            ],
            "image/png": "[encoded data removed]"
          },
          "metadata": {}
        }
      ]
    },
    {
      "cell_type": "code",
      "source": [
        "thresh = 0.5\n",
        "y_pred_ = y_pred < thresh\n",
        "y_pred_.astype('uint8')\n",
        "from sklearn.metrics import classification_report\n",
        "print(classification_report(y_true,y_pred_)) \n"
      ],
      "metadata": {
        "colab": {
          "base_uri": "https://localhost:8080/"
        },
        "id": "OPah79fMbydp",
        "outputId": "192cb7c1-7ec8-4980-c515-3b8211feddcb"
      },
      "execution_count": 50,
      "outputs": [
        {
          "output_type": "stream",
          "name": "stdout",
          "text": [
            "              precision    recall  f1-score   support\n",
            "\n",
            "         0.0       0.92      0.89      0.90    184368\n",
            "         1.0       0.90      0.92      0.91    184368\n",
            "\n",
            "    accuracy                           0.91    368736\n",
            "   macro avg       0.91      0.91      0.91    368736\n",
            "weighted avg       0.91      0.91      0.91    368736\n",
            "\n"
          ]
        }
      ]
    }
  ]
}